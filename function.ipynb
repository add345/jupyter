{
 "cells": [
  {
   "cell_type": "code",
   "execution_count": 5,
   "id": "3d412559",
   "metadata": {},
   "outputs": [],
   "source": [
    "# f(x) = -12x^4*sin(cos(x)) - 18x^3+5x^2 + 10x - 30\n",
    "# Определить корни\n",
    "# Найти интервалы, на которых функция возрастает\n",
    "# Найти интервалы, на которых функция убывает\n",
    "# Построить график\n",
    "# Вычислить вершину\n",
    "# Определить промежутки, на котором f > 0\n",
    "# Определить промежутки, на котором f < 0"
   ]
  },
  {
   "cell_type": "code",
   "execution_count": 12,
   "id": "6a6d27dd",
   "metadata": {},
   "outputs": [],
   "source": [
    "import math\n",
    "import numpy as np\n",
    "import matplotlib.pyplot as plt"
   ]
  },
  {
   "cell_type": "code",
   "execution_count": 34,
   "id": "f9996922",
   "metadata": {},
   "outputs": [],
   "source": [
    "def func(x):\n",
    "    return (-12*x**4) * math.sin(math.cos(x)) - 18*x**3 + 5*x**2 + 10*x - 30\n",
    "\n",
    "func2 = np.vectorize(func)"
   ]
  },
  {
   "cell_type": "code",
   "execution_count": 61,
   "id": "4ea03123",
   "metadata": {},
   "outputs": [],
   "source": [
    "def roots(func, rang):\n",
    "    rts = []\n",
    "    for i in range(1, len(rang)):\n",
    "        if (func(rang[i - 1]) * func(rang[i])) < 0:\n",
    "            rts.append((rang[i - 1] + rang[i]) / 2 )\n",
    "    return rts"
   ]
  },
  {
   "cell_type": "code",
   "execution_count": 58,
   "id": "1f8f1c54",
   "metadata": {},
   "outputs": [],
   "source": [
    "x = np.arange(-10, 10, 0.1)"
   ]
  },
  {
   "cell_type": "code",
   "execution_count": 59,
   "id": "983bdced",
   "metadata": {
    "scrolled": true
   },
   "outputs": [
    {
     "data": {
      "image/png": "[encoded data removed]",
      "text/plain": [
       "<Figure size 640x480 with 1 Axes>"
      ]
     },
     "metadata": {},
     "output_type": "display_data"
    }
   ],
   "source": [
    "plt.plot(x, func2(x), 'r')\n",
    "plt.grid()"
   ]
  },
  {
   "cell_type": "code",
   "execution_count": 62,
   "id": "6c594733",
   "metadata": {},
   "outputs": [
    {
     "name": "stdout",
     "output_type": "stream",
     "text": [
      "[-7.650000000000008, -5.050000000000018, -1.3500000000000307, 2.2499999999999565, 4.349999999999949, 8.049999999999937]\n"
     ]
    }
   ],
   "source": [
    "print(roots(func, x))"
   ]
  },
  {
   "cell_type": "code",
   "execution_count": 85,
   "id": "c073a9f9",
   "metadata": {},
   "outputs": [],
   "source": [
    "def grows_ints(func, rang):\n",
    "    ints = []\n",
    "    start = 0\n",
    "    end = 0\n",
    "    grows = False\n",
    "    for i in range(1, len(rang)):\n",
    "        \n",
    "        if func(rang[i - 1]) < func(rang[i]):\n",
    "            if not grows:\n",
    "                start = i - 1\n",
    "            grows = True\n",
    "        else:\n",
    "            if grows:\n",
    "                end = i - 1\n",
    "                ints.append([rang[start], rang[end]])\n",
    "            grows = False\n",
    "            \n",
    "    if grows:\n",
    "        end = len(rang) - 1\n",
    "        ints.append([rang[start], rang[end]])\n",
    "    \n",
    "    return ints  "
   ]
  },
  {
   "cell_type": "code",
   "execution_count": 86,
   "id": "9c4ebe8a",
   "metadata": {},
   "outputs": [
    {
     "name": "stdout",
     "output_type": "stream",
     "text": [
      "[[-6.800000000000011, -4.200000000000021], [-0.4000000000000341, 0.4999999999999627], [1.6999999999999584, 3.799999999999951], [6.99999999999994, 9.899999999999928]]\n"
     ]
    }
   ],
   "source": [
    "print(grows_ints(func, x))"
   ]
  },
  {
   "cell_type": "code",
   "execution_count": 89,
   "id": "a3e7e1a5",
   "metadata": {},
   "outputs": [],
   "source": [
    "def downs_ints(func, rang):\n",
    "    ints = []\n",
    "    start = 0\n",
    "    end = 0\n",
    "    downs = False\n",
    "    for i in range(1, len(rang)):\n",
    "        \n",
    "        if func(rang[i - 1]) > func(rang[i]):\n",
    "            if not downs:\n",
    "                start = i - 1\n",
    "            downs = True\n",
    "        else:\n",
    "            if downs:\n",
    "                end = i - 1\n",
    "                ints.append([rang[start], rang[end]])\n",
    "            downs = False\n",
    "            \n",
    "    if downs:\n",
    "        end = len(rang) - 1\n",
    "        ints.append([rang[start], rang[end]])\n",
    "    \n",
    "    return ints  "
   ]
  },
  {
   "cell_type": "code",
   "execution_count": 90,
   "id": "d7949ad4",
   "metadata": {},
   "outputs": [
    {
     "name": "stdout",
     "output_type": "stream",
     "text": [
      "[[-10.0, -6.800000000000011], [-4.200000000000021, -0.4000000000000341], [0.4999999999999627, 1.6999999999999584], [3.799999999999951, 6.99999999999994]]\n"
     ]
    }
   ],
   "source": [
    "print(downs_ints(func, x))"
   ]
  },
  {
   "cell_type": "code",
   "execution_count": 91,
   "id": "c5f21dfa",
   "metadata": {},
   "outputs": [],
   "source": [
    "def positive_ints(func, rang):\n",
    "    ints = []\n",
    "    start = 0\n",
    "    end = 0\n",
    "    positive = False\n",
    "    for i in range(0, len(rang)):\n",
    "        \n",
    "        if func(rang[i]) > 0:\n",
    "            if not positive:\n",
    "                start = i\n",
    "            positive = True\n",
    "        else:\n",
    "            if positive:\n",
    "                end = i\n",
    "                ints.append([rang[start], rang[end]])\n",
    "            positive = False\n",
    "            \n",
    "    if positive:\n",
    "        end = len(rang) - 1\n",
    "        ints.append([rang[start], rang[end]])\n",
    "    \n",
    "    return ints  "
   ]
  },
  {
   "cell_type": "code",
   "execution_count": 92,
   "id": "6b8a41ef",
   "metadata": {},
   "outputs": [
    {
     "name": "stdout",
     "output_type": "stream",
     "text": [
      "[[-10.0, -7.6000000000000085], [-5.000000000000018, -1.300000000000031], [2.2999999999999563, 4.399999999999949], [8.099999999999937, 9.899999999999928]]\n"
     ]
    }
   ],
   "source": [
    "print(positive_ints(func, x))"
   ]
  },
  {
   "cell_type": "code",
   "execution_count": 96,
   "id": "b231099d",
   "metadata": {},
   "outputs": [],
   "source": [
    "def negative_ints(func, rang):\n",
    "    ints = []\n",
    "    start = 0\n",
    "    end = 0\n",
    "    negative = False\n",
    "    for i in range(0, len(rang)):\n",
    "        \n",
    "        if func(rang[i]) < 0:\n",
    "            if not negative:\n",
    "                start = i\n",
    "            negative = True\n",
    "        else:\n",
    "            if negative:\n",
    "                end = i\n",
    "                ints.append([rang[start], rang[end]])\n",
    "            negative = False\n",
    "            \n",
    "    if negative:\n",
    "        end = len(rang) - 1\n",
    "        ints.append([rang[start], rang[end]])\n",
    "    \n",
    "    return ints  "
   ]
  },
  {
   "cell_type": "code",
   "execution_count": 97,
   "id": "d04cc268",
   "metadata": {},
   "outputs": [
    {
     "name": "stdout",
     "output_type": "stream",
     "text": [
      "[[-7.6000000000000085, -5.000000000000018], [-1.300000000000031, 2.2999999999999563], [4.399999999999949, 8.099999999999937]]\n"
     ]
    }
   ],
   "source": [
    "print(negative_ints(func, x))"
   ]
  },
  {
   "cell_type": "code",
   "execution_count": null,
   "id": "6d28391e",
   "metadata": {},
   "outputs": [],
   "source": []
  }
 ],
 "metadata": {
  "kernelspec": {
   "display_name": "Python 3 (ipykernel)",
   "language": "python",
   "name": "python3"
  },
  "language_info": {
   "codemirror_mode": {
    "name": "ipython",
    "version": 3
   },
   "file_extension": ".py",
   "mimetype": "text/x-python",
   "name": "python",
   "nbconvert_exporter": "python",
   "pygments_lexer": "ipython3",
   "version": "3.8.2"
  }
 },
 "nbformat": 4,
 "nbformat_minor": 5
}
